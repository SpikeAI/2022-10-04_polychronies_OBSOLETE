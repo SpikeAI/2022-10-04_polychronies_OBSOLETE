{
 "cells": [
  {
   "cell_type": "code",
   "execution_count": 45,
   "metadata": {},
   "outputs": [
    {
     "data": {
      "text/html": [
       "<div>\n",
       "<style scoped>\n",
       "    .dataframe tbody tr th:only-of-type {\n",
       "        vertical-align: middle;\n",
       "    }\n",
       "\n",
       "    .dataframe tbody tr th {\n",
       "        vertical-align: top;\n",
       "    }\n",
       "\n",
       "    .dataframe thead th {\n",
       "        text-align: right;\n",
       "    }\n",
       "</style>\n",
       "<table border=\"1\" class=\"dataframe\">\n",
       "  <thead>\n",
       "    <tr style=\"text-align: right;\">\n",
       "      <th></th>\n",
       "      <th>input_id</th>\n",
       "      <th>dealiased_id</th>\n",
       "      <th>standard_id</th>\n",
       "      <th>short_id</th>\n",
       "    </tr>\n",
       "  </thead>\n",
       "  <tbody>\n",
       "    <tr>\n",
       "      <th>0</th>\n",
       "      <td>Thorpe1996</td>\n",
       "      <td>doi:10/c4v35x</td>\n",
       "      <td>doi:10.1038/381520a0</td>\n",
       "      <td>G3GlupPg</td>\n",
       "    </tr>\n",
       "    <tr>\n",
       "      <th>1</th>\n",
       "      <td>Kirchner06</td>\n",
       "      <td>Kirchner06</td>\n",
       "      <td>Kirchner06</td>\n",
       "      <td>B9iZWoq3</td>\n",
       "    </tr>\n",
       "    <tr>\n",
       "      <th>2</th>\n",
       "      <td>doi:10.1162/089892901564199</td>\n",
       "      <td>doi:10.1162/089892901564199</td>\n",
       "      <td>doi:10.1162/089892901564199</td>\n",
       "      <td>EqCCVwl2</td>\n",
       "    </tr>\n",
       "    <tr>\n",
       "      <th>3</th>\n",
       "      <td>doi:10.1007/978-1-4757-9625-4_5</td>\n",
       "      <td>doi:10.1007/978-1-4757-9625-4_5</td>\n",
       "      <td>doi:10.1007/978-1-4757-9625-4_5</td>\n",
       "      <td>Vu87UU6A</td>\n",
       "    </tr>\n",
       "    <tr>\n",
       "      <th>4</th>\n",
       "      <td>doi:10/ccv3w2</td>\n",
       "      <td>doi:10/ccv3w2</td>\n",
       "      <td>doi:10.1016/s0166-2236(00)01657-x</td>\n",
       "      <td>15aMjRHVK</td>\n",
       "    </tr>\n",
       "  </tbody>\n",
       "</table>\n",
       "</div>"
      ],
      "text/plain": [
       "                          input_id                     dealiased_id  \\\n",
       "0                       Thorpe1996                    doi:10/c4v35x   \n",
       "1                       Kirchner06                       Kirchner06   \n",
       "2      doi:10.1162/089892901564199      doi:10.1162/089892901564199   \n",
       "3  doi:10.1007/978-1-4757-9625-4_5  doi:10.1007/978-1-4757-9625-4_5   \n",
       "4                    doi:10/ccv3w2                    doi:10/ccv3w2   \n",
       "\n",
       "                         standard_id   short_id  \n",
       "0               doi:10.1038/381520a0   G3GlupPg  \n",
       "1                         Kirchner06   B9iZWoq3  \n",
       "2        doi:10.1162/089892901564199   EqCCVwl2  \n",
       "3    doi:10.1007/978-1-4757-9625-4_5   Vu87UU6A  \n",
       "4  doi:10.1016/s0166-2236(00)01657-x  15aMjRHVK  "
      ]
     },
     "execution_count": 45,
     "metadata": {},
     "output_type": "execute_result"
    }
   ],
   "source": [
    "import pandas as pd \n",
    "tsv_fname = 'output/citations.tsv'\n",
    "df = pd.read_table(tsv_fname)\n",
    "df.head()"
   ]
  },
  {
   "cell_type": "code",
   "execution_count": 66,
   "metadata": {},
   "outputs": [
    {
     "data": {
      "text/plain": [
       "('B9iZWoq3', 'EqCCVwl2')"
      ]
     },
     "execution_count": 66,
     "metadata": {},
     "output_type": "execute_result"
    }
   ],
   "source": [
    "citations = {}\n",
    "for index, row in df.iterrows():\n",
    "    input_id = row['input_id']\n",
    "    input_id.replace('arXiv', 'arxiv')\n",
    "    citations[input_id]  = row['short_id']\n",
    "citations['Kirchner06'], citations['doi:10.1162/089892901564199']"
   ]
  },
  {
   "cell_type": "code",
   "execution_count": null,
   "metadata": {},
   "outputs": [],
   "source": []
  },
  {
   "cell_type": "code",
   "execution_count": 1,
   "metadata": {},
   "outputs": [
    {
     "name": "stdout",
     "output_type": "stream",
     "text": [
      "Collecting package metadata (current_repodata.json): done\n",
      "Solving environment: done\n",
      "\n",
      "## Package Plan ##\n",
      "\n",
      "  environment location: /Users/laurentperrinet/opt/anaconda3\n",
      "\n",
      "  added / updated specs:\n",
      "    - bibtexparser\n",
      "\n",
      "\n",
      "The following packages will be downloaded:\n",
      "\n",
      "    package                    |            build\n",
      "    ---------------------------|-----------------\n",
      "    bibtexparser-1.4.0         |     pyhd8ed1ab_0          39 KB  conda-forge\n",
      "    ------------------------------------------------------------\n",
      "                                           Total:          39 KB\n",
      "\n",
      "The following NEW packages will be INSTALLED:\n",
      "\n",
      "  bibtexparser       conda-forge/noarch::bibtexparser-1.4.0-pyhd8ed1ab_0 None\n",
      "\n",
      "\n",
      "\n",
      "Downloading and Extracting Packages\n",
      "bibtexparser-1.4.0   | 39 KB     | ##################################### | 100% \n",
      "Preparing transaction: done\n",
      "Verifying transaction: done\n",
      "Executing transaction: done\n",
      "Retrieving notices: ...working... done\n",
      "\n",
      "Note: you may need to restart the kernel to use updated packages.\n"
     ]
    }
   ],
   "source": [
    "%conda install bibtexparser"
   ]
  },
  {
   "cell_type": "code",
   "execution_count": 2,
   "metadata": {},
   "outputs": [],
   "source": [
    "import bibtexparser\n",
    "from bibtexparser.bibdatabase import BibDatabase\n",
    "from bibtexparser.bparser import BibTexParser\n",
    "from bibtexparser.bwriter import BibTexWriter\n",
    "from bibtexparser.customization import convert_to_unicode"
   ]
  },
  {
   "cell_type": "code",
   "execution_count": 38,
   "metadata": {},
   "outputs": [],
   "source": [
    "bib_fname = 'polychronies.bib'"
   ]
  },
  {
   "cell_type": "code",
   "execution_count": 111,
   "metadata": {},
   "outputs": [],
   "source": [
    "bib_fname = '/Users/laurentperrinet/metagit/ABCD/polychrony_review_633bf90497b5b325a3ff692e/references.bib'"
   ]
  },
  {
   "cell_type": "code",
   "execution_count": 112,
   "metadata": {},
   "outputs": [
    {
     "name": "stdout",
     "output_type": "stream",
     "text": [
      "155\n"
     ]
    }
   ],
   "source": [
    "import bibtexparser\n",
    "\n",
    "with open(bib_fname) as bibtex_file:\n",
    "    bib_database = bibtexparser.load(bibtex_file)\n",
    "\n",
    "print(len(bib_database.entries))\n"
   ]
  },
  {
   "cell_type": "code",
   "execution_count": 113,
   "metadata": {},
   "outputs": [
    {
     "data": {
      "text/plain": [
       "155"
      ]
     },
     "execution_count": 113,
     "metadata": {},
     "output_type": "execute_result"
    }
   ],
   "source": [
    "len(bib_database.entries)"
   ]
  },
  {
   "cell_type": "code",
   "execution_count": 114,
   "metadata": {},
   "outputs": [
    {
     "data": {
      "text/plain": [
       "{'keywords': '⛔ No DOI found, ⛔ No INSPIRE recid found',\n",
       " 'year': '2019',\n",
       " 'author': 'Ghosh, Rohan and Gupta, Anupam and Silva, Andrei Nakagawa and Soares, Alcimar and Thakor, Nitish V.',\n",
       " 'url': 'http://arxiv.org/abs/1903.07067',\n",
       " 'title': 'Spatiotemporal filtering for event-based action recognition',\n",
       " 'ENTRYTYPE': 'misc',\n",
       " 'ID': 'ghosh_spatiotemporal_2019'}"
      ]
     },
     "execution_count": 114,
     "metadata": {},
     "output_type": "execute_result"
    }
   ],
   "source": [
    "bib_database.entries[0]"
   ]
  },
  {
   "cell_type": "code",
   "execution_count": 115,
   "metadata": {},
   "outputs": [
    {
     "data": {
      "text/plain": [
       "{'Thorpe1996': 'G3GlupPg',\n",
       " 'Kirchner06': 'B9iZWoq3',\n",
       " 'doi:10.1162/089892901564199': 'EqCCVwl2',\n",
       " 'doi:10.1007/978-1-4757-9625-4_5': 'Vu87UU6A',\n",
       " 'doi:10/ccv3w2': '15aMjRHVK',\n",
       " 'doi:10.1126/science.1058249': '12dWDpY61',\n",
       " 'doi:fwhmkz': 'zZUVkTfZ',\n",
       " 'doi:b823wg': '13T2Gne9z',\n",
       " 'doi:10/gm79hh': 'BNK6T5Uk',\n",
       " 'Perrinet2004': '1DpSM1kpQ',\n",
       " 'doi:10.1126/science.1149639': 'IjepoonT',\n",
       " 'https://repository.cshl.edu/id/eprint/30941': 'mxPMgOmW',\n",
       " 'doi:10.1523/JNEUROSCI.10-10-03227.1990': '1ECJhg2GM',\n",
       " 'doi:10.1023/B:NACO.0000027755.02868.60': 'WZsEyOlK',\n",
       " 'doi:10.1126/science.7770778': 'XsHCA4IZ',\n",
       " 'https://www.cnrs.fr/mi/IMG/pdf/parissep14-m-thorpe-small.pdf': 'YX5wqWH4',\n",
       " 'doi:10.1073/pnas.0610368104': '1H1Omh73g',\n",
       " 'doi:10.1016/j.neunet.2004.05.005': 'UlbjMU0W',\n",
       " 'doi:10/dqt5cm': '513xqzmL',\n",
       " 'Grimaldi2021': '7K80jcx9',\n",
       " 'Grimaldi2022': 'fRudGmR1',\n",
       " 'arxiv:2201.12673': 'Oet1bgdb',\n",
       " 'arXiv:1912.11443': '15cR83gqd',\n",
       " 'doi:10.1073/pnas.1921226117': '1E8gkynCm',\n",
       " 'doi:10.1016/j.tics.2018.07.009': 'QK8RfvTZ',\n",
       " 'doi:10.1523/JNEUROSCI.13-01-00334.1993': 'sYHyiGsP',\n",
       " '10.1093/cercor/7.6.487': '1AbvCTG03',\n",
       " 'Abeles1991': '19MS6Bbwp',\n",
       " 'Paugam12': 'lT1Ato7P',\n",
       " 'doi:10.1038/385157a0': '1ABzD5t6G',\n",
       " 'doi:10.1038/nature01834': 'R2E2wRFg',\n",
       " 'doi:10.1146/annurev.ne.18.030195.003011': 'KZgcpjXN',\n",
       " 'pmid:11665761': 'xbqYi2PD',\n",
       " 'doi:10.1111/j.1460-9568.2008.06434.x': 'DL2NpHxr',\n",
       " 'doi:10.3389/fncir.2016.00037': 'mszJ8wdv',\n",
       " 'doi:10.1152/jn.01245.2007': 'qVu1OkoS',\n",
       " 'doi:10.1162/089976603321780290': 'xBZqHOuN',\n",
       " 'doi:10.1007/s10827-010-0240-9': 'p7xk5w4f',\n",
       " 'doi:10.3389/neuro.11.011.2008': '33SRV9MB',\n",
       " 'doi:10.3389/fnins.2013.00011': 'DiIieN8s',\n",
       " 'doi:10.1126/science.1124593': '18ZU9zP9l',\n",
       " 'doi:10.1126/science.278.5345.1950': 'wVZpQvSk',\n",
       " 'doi:10.1523/JNEUROSCI.1554-09.2009': '1HJjmmSpm',\n",
       " 'doi:10.1007/s00422-002-0385-3': 'FZ9X31Qa',\n",
       " 'doi:10.1038/s41598-018-22990-7': 'Ejy1sAyh',\n",
       " 'doi:10.1523/JNEUROSCI.4375-15.2016': 'Glu4NlLC',\n",
       " 'Torre2016': 'bc9czTxi',\n",
       " 'sec:detection': '8bmmx3xh',\n",
       " 'doi:10.1371/journal.pcbi.1002561': '3GlNNxH5',\n",
       " 'Bringuier99': 'zNDCo9Hy',\n",
       " 'doi:10.1038/nature07140': 'Piao2Wzf',\n",
       " 'doi:10.1038/nature04701': '2AsQOOsE',\n",
       " 'doi:10.1016/j.neuron.2005.03.026': 'Bxpr0Oeq',\n",
       " 'url:https://dataspace.princeton.edu/handle/88435/dsp015425kd84r': '1FU0Y7Erc',\n",
       " 'Muller14': 'hGYLURVS',\n",
       " 'Muller18': 'vsKvZJ82',\n",
       " 'doi:10.1038/s41467-021-26175-1': 'BNK6T5Uk',\n",
       " 'doi:10.1101/2021.08.31.458405': '17EU8fPBv',\n",
       " 'doi:10.1007/s002210050826': 'yLVM9IXi',\n",
       " 'Chemla19': 'OAorhMRa',\n",
       " 'Bienenstock1995': 'HjDb1gnq',\n",
       " 'doi:10/f6chbq': 'KS4oxnst',\n",
       " 'doi:10.1016/j.neucom.2020.03.079': 'ga3ZTFC7',\n",
       " 'Izhikevich2006': 'SM9G0xBK',\n",
       " 'Ikegaya2004': 'Mf6h1KNY',\n",
       " 'doi:10.1073/pnas.0605643104': '2GovoaYw',\n",
       " 'Pastalkova2008': 'SVfasyCp',\n",
       " 'Villette2015': 'PUNGVou',\n",
       " 'Branco2010': '19fAM6hcv',\n",
       " 'Buzsáki2018': '13dQ0R4UM',\n",
       " 'Luczak2015': 'MfmcMsqA',\n",
       " 'doi:10.1126/science.270.5239.1207': '1EHZgcKyL',\n",
       " 'doi:10.1038/381610a0': 'FlKJw2VL',\n",
       " 'doi:10.1038/384162a0': 'AhSRXBJ2',\n",
       " 'doi:10.1038/nn1177': 'gDinei4a',\n",
       " 'doi:10.1073/pnas.1718518116': 'qI2HUEyy',\n",
       " 'doi:10.1016/j.neuron.2020.12.013': '4D8Jnhkz',\n",
       " 'Agus2010': 'Jzr1gwsr',\n",
       " 'doi:10.1073/pnas.1406077111': 'UGHHptIH',\n",
       " 'Maass97': 'DUpFdm8C',\n",
       " 'doi:10.1007/s00422-014-0620-8': 'f7gkBktf',\n",
       " 'doi:10.1371/journal.pcbi.1005068': '1BSbXPPDF',\n",
       " 'Kaplan13': 'WGEaBYgy',\n",
       " 'KhoeiMassonPerrinet17': '7GEdzh5o',\n",
       " 'doi:10/ch29r4': '1GazUBEdT',\n",
       " 'doi:10.1016/j.conb.2014.01.004': 'QCyjy8wE',\n",
       " 'doi:10.1146/annurev.neuro.31.060407.125639': 'EF6Larp8',\n",
       " '10.1016/j.neunet.2017.12.005': 'Dd3kSDRW',\n",
       " 'doi:10.1016/j.neunet.2018.05.018': 'vePjgmRh',\n",
       " '10.7554/eLife.19428': 'RrgzWOSk',\n",
       " 'doi:10.1162/089976606775093882': 'SM9G0xBK',\n",
       " 'doi': 'FSDqKxd0',\n",
       " '10.1162/NECO_a_00620': 'KS4oxnst',\n",
       " 'doi:10.1073/pnas.0804451105': 'o7rANZux',\n",
       " 'Moser2014': 'LjkTSK3h',\n",
       " 'doi:10.1007/BF01475864': 'RYzP72lj',\n",
       " 'doi:10.1016/j.biosystems.2015.04.008': 'Z7LAUup3',\n",
       " 'doi:10.1523/jneurosci.1335-12.2012': 'MgINa6bU',\n",
       " 'doi:10.1007/978-1-4419-5675-0_10': '13iJohyPk',\n",
       " 'doi:10.3389/fncom.2013.00132': '1ErNTONy0',\n",
       " 'doi:10.1007/s00422-018-0755-0': 'V9qkJFZU',\n",
       " 'doi:10.1016/j.biosystems.2019.104022': 'pExXxdMb',\n",
       " 'doi:10.1523/ENEURO.0505-21.2022': 'd2m7wQpH',\n",
       " 'doi:10.1371/journal.pcbi.1002123': 's63GcujC',\n",
       " 'Pachitariu2018': 'zc16plUu',\n",
       " 'Stringer2019nature': 'brg2FFsb',\n",
       " 'Stringer2019science': '1BPHUQLTf',\n",
       " 'Stringer2021': '1EMs3GS0B',\n",
       " 'Grossberger2018': '9AK1cwY1',\n",
       " 'Russo2017': 'RrgzWOSk',\n",
       " 'Grün2002': '1XpTamcl',\n",
       " 'Orban2016': '1300cS9RL',\n",
       " 'arXiv:2010.04875': '1365b3Wwl',\n",
       " 'doi:10.1142/S0218127409023111': 'rYLmAESf',\n",
       " 'doi:10.1109/ICECS53924.2021.9665468': '1DadetlqZ',\n",
       " 'doi:10.7554/eLife.19428': 'RrgzWOSk',\n",
       " 'doi:10.1162/089976602753284455': 'iNkKTYaI',\n",
       " 'doi:10.1007/s10827-007-0065-3': '14wpaupd5',\n",
       " 'doi:10/ftvvd8': '19NyVq80B',\n",
       " 'Perrinet2002': '11p3NXmkg',\n",
       " 'Perrinet2001': 'j5xS3owo',\n",
       " 'doi:10.3389/fncom.2010.00023': '15TktA0gR',\n",
       " 'doi:10.1371/journal.pcbi.1002897': '1FHIKpizQ',\n",
       " 'doi:10.1523/JNEUROSCI.2017-20.2021': 's09KZ8Kh',\n",
       " 'arxiv:2011.09380': 'UeTLXQCp',\n",
       " 'doi:10.1109/TNNLS.2022.3164930': 'B493Fl4K',\n",
       " 'doi:10.1162/NECO_a_00879': 'pPRQwZb',\n",
       " 'doi:10.1073/pnas.1815910116': 'WFwUKZb5',\n",
       " 'pmid:12490259': '1EhOfHrje',\n",
       " 'pmid:8308169': 'Dry1ANMD',\n",
       " 'pmid:8791594': 'SAIh1pga',\n",
       " 'arxiv:2106.10064': 'aj6TgorR',\n",
       " 'doi:10/cwcn9d': '14e3BCBii',\n",
       " 'doi:10.48550/arXiv.1903.07067': '10EU8MfxC',\n",
       " 'doi:10.7554/eLife.44324.001': '12zyUFdO4',\n",
       " 'arxiv:2112.12147': 'WxQdcMB2',\n",
       " 'doi:10.1109/JPROC.2011.2155130': 'JrZPoxk9',\n",
       " 'doi:10.3929/ethz-b-000543342': 'sJ03d2Zj',\n",
       " 'arxiv:2204.05422': 'R5BYFgCP',\n",
       " 'doi:10.1101/2021.06.08.447542': '1HSyNOl48'}"
      ]
     },
     "execution_count": 115,
     "metadata": {},
     "output_type": "execute_result"
    }
   ],
   "source": [
    "citations"
   ]
  },
  {
   "cell_type": "code",
   "execution_count": 116,
   "metadata": {},
   "outputs": [
    {
     "data": {
      "text/plain": [
       "{'file': 'Full Text PDF:/Users/laurentperrinet/Zotero/storage/IGVMKN9H/Pang et Fairhall - 2019 - Fast and flexible sequence induction in spiking ne.pdf:application/pdf',\n",
       " 'pages': 'e44324',\n",
       " 'keywords': 'cognitive flexibility, excitability, neural network, neurocentric, sequence, short-term memory, ⛔ No INSPIRE recid found',\n",
       " 'note': 'Publisher: eLife Sciences Publications, Ltd',\n",
       " 'year': '2019',\n",
       " 'month': 'May',\n",
       " 'editor': 'Salinas, Emilio and Marder, Eve and Salinas, Emilio',\n",
       " 'author': 'Pang, Rich and Fairhall, Adrienne L',\n",
       " 'journal': 'eLife',\n",
       " 'urldate': '2022-10-04',\n",
       " 'abstract': 'Cognitive flexibility likely depends on modulation of the dynamics underlying how biological neural networks process information. While dynamics can be reshaped by gradually modifying connectivity, less is known about mechanisms operating on faster timescales. A compelling entrypoint to this problem is the observation that exploratory behaviors can rapidly cause selective hippocampal sequences to ‘replay’ during rest. Using a spiking network model, we asked whether simplified replay could arise from three biological components: fixed recurrent connectivity; stochastic ‘gating’ inputs; and rapid gating input scaling via long-term potentiation of intrinsic excitability (LTP-IE). Indeed, these enabled both forward and reverse replay of recent sensorimotor-evoked sequences, despite unchanged recurrent weights. LTP-IE ‘tags’ specific neurons with increased spiking probability under gating input, and ordering is reconstructed from recurrent connectivity. We further show how LTP-IE can implement temporary stimulus-response mappings. This elucidates a novel combination of mechanisms that might play a role in rapid cognitive flexibility.',\n",
       " 'doi': '10.7554/eLife.44324',\n",
       " 'url': 'https://doi.org/10.7554/eLife.44324',\n",
       " 'issn': '2050-084X',\n",
       " 'volume': '8',\n",
       " 'title': 'Fast and flexible sequence induction in spiking neural networks via rapid excitability changes',\n",
       " 'ENTRYTYPE': 'article',\n",
       " 'ID': 'Kirchner06'}"
      ]
     },
     "execution_count": 116,
     "metadata": {},
     "output_type": "execute_result"
    }
   ],
   "source": [
    "entry"
   ]
  },
  {
   "cell_type": "code",
   "execution_count": 117,
   "metadata": {},
   "outputs": [
    {
     "ename": "KeyError",
     "evalue": "'10.7554/eLife.44324'",
     "output_type": "error",
     "traceback": [
      "\u001b[0;31m---------------------------------------------------------------------------\u001b[0m",
      "\u001b[0;31mKeyError\u001b[0m                                  Traceback (most recent call last)",
      "Cell \u001b[0;32mIn [117], line 1\u001b[0m\n\u001b[0;32m----> 1\u001b[0m citations[\u001b[38;5;124m'\u001b[39m\u001b[38;5;124m10.7554/eLife.44324\u001b[39m\u001b[38;5;124m'\u001b[39m]\n",
      "\u001b[0;31mKeyError\u001b[0m: '10.7554/eLife.44324'"
     ]
    }
   ],
   "source": [
    "citations['10.7554/eLife.44324'] #['Warner2022']"
   ]
  },
  {
   "cell_type": "code",
   "execution_count": 118,
   "metadata": {},
   "outputs": [
    {
     "data": {
      "text/plain": [
       "'doi:10.7554/eLife.44324'"
      ]
     },
     "execution_count": 118,
     "metadata": {},
     "output_type": "execute_result"
    }
   ],
   "source": [
    "'doi:' + entry['doi'] "
   ]
  },
  {
   "cell_type": "code",
   "execution_count": 119,
   "metadata": {},
   "outputs": [
    {
     "data": {
      "text/plain": [
       "(False, 'B9iZWoq3')"
      ]
     },
     "execution_count": 119,
     "metadata": {},
     "output_type": "execute_result"
    }
   ],
   "source": [
    "'doi:' + entry['ID'] in citations.keys(), citations[entry['ID']]"
   ]
  },
  {
   "cell_type": "code",
   "execution_count": 120,
   "metadata": {},
   "outputs": [
    {
     "data": {
      "text/plain": [
       "(True, 'B9iZWoq3')"
      ]
     },
     "execution_count": 120,
     "metadata": {},
     "output_type": "execute_result"
    }
   ],
   "source": [
    "'doi:10.1162/089892901564199' in citations.keys(), citations[entry['ID']]"
   ]
  },
  {
   "cell_type": "code",
   "execution_count": 121,
   "metadata": {},
   "outputs": [
    {
     "name": "stdout",
     "output_type": "stream",
     "text": [
      "nope ghosh_spatiotemporal_2019\n",
      "arXiv:2201.11108 [cs, q-bio, stat] arxiv:2201.11108\n",
      "arXiv:2109.07618 [physics] arxiv:2109.07618\n",
      "nope abeles_corticonics_1991\n",
      "nope deweese_binary_2003\n",
      "nope goltz_fast_2021\n",
      "nope bellec_fitting_2021\n",
      "nope williams_point_2020\n",
      "nope nowak_timing_1997\n",
      "nope grun_unitary_2010\n",
      "nope yin_sata_2022\n",
      "nope rasetto_challenges_2022\n",
      "nope panahi_generative_2021\n",
      "nope nadafian_bio-plausible_2020\n",
      "nope dard_rapid_2021\n",
      "nope linden_movement_2021\n",
      "nope paugam-moisy_computing_2012\n",
      "Israel journal of medical sciences Israel\n",
      "Biofizika Biofizika\n"
     ]
    }
   ],
   "source": [
    "citekeys = {} # dictionnaries containing short_id to citekey\n",
    "for entry in bib_database.entries:\n",
    "    if entry['ID'] in citations.keys():\n",
    "        citekeys[citations[entry['ID']]] = entry['ID']\n",
    "    elif 'doi' in entry.keys():\n",
    "        if ('doi:' + entry['doi']) in citations.keys():\n",
    "            citekeys[citations['doi:' + entry['doi']]] = entry['ID']\n",
    "    elif 'journal' in entry.keys():\n",
    "        arxiv = entry['journal'].split(' ')[0].replace('arXiv', 'arxiv')\n",
    "        if arxiv in citations.keys():\n",
    "            citekeys[arxiv] = entry['ID']\n",
    "        else:\n",
    "            print(entry['journal'], arxiv)\n",
    "        \n",
    "    else:\n",
    "        print('nope', entry['ID'])                "
   ]
  },
  {
   "cell_type": "code",
   "execution_count": null,
   "metadata": {},
   "outputs": [],
   "source": [
    "citekeys['arxiv:2201.11108'] = ''\n",
    "citekeys['arXiv:2109.07618'] = ''\n",
    "Biofizika Biofizika\n",
    "nope Paugam-Moisy2012\n",
    "nope Ghosh2019\n",
    "Israel journal of medical sciences Israel\n",
    "nope Goltz2021\n",
    "nope Williams2020\n",
    "nope Nadafian2020\n",
    "nope Bellec2021\n",
    "nope Panahi2021\n",
    "nope Rasetto2022\n",
    "nope Yin2022\n",
    "nope Grun2010\n",
    "nope Nowak1997\n",
    "nope Dard2021\n",
    "nope Linden2021\n",
    "nope DeWeese2003"
   ]
  },
  {
   "cell_type": "code",
   "execution_count": 83,
   "metadata": {},
   "outputs": [
    {
     "data": {
      "text/plain": [
       "{'QCyjy8wE': 'Gutig2014',\n",
       " 'pPRQwZb': 'Sun2016',\n",
       " 'PUNGVou': 'Villette2015',\n",
       " 'SM9G0xBK': 'Izhikevich2006',\n",
       " '9AK1cwY1': 'Grossberger2018',\n",
       " 'Mf6h1KNY': 'Ikegaya2004',\n",
       " '1BSbXPPDF': 'Khoei2017',\n",
       " 'f7gkBktf': 'Perrinet2014',\n",
       " 'qI2HUEyy': 'Haimerl2019',\n",
       " 'SVfasyCp': 'Pastalkova2008',\n",
       " '2GovoaYw': 'Luczak2007',\n",
       " 'wVZpQvSk': 'Riehle1997',\n",
       " '1DpSM1kpQ': 'Perrinet2004',\n",
       " 'fRudGmR1': 'Grimaldi2022',\n",
       " 'BNK6T5Uk': 'Davis2021',\n",
       " '1ECJhg2GM': 'Carr1990',\n",
       " 'WZsEyOlK': 'Bohte2004',\n",
       " 'yLVM9IXi': 'Grammont1999',\n",
       " 'FZ9X31Qa': 'Grammont2003',\n",
       " 'V9qkJFZU': 'Quaglio2018',\n",
       " '14wpaupd5': 'Pipa2008',\n",
       " 'p7xk5w4f': 'Kremkow2010',\n",
       " 'Z7LAUup3': 'Levakova2015',\n",
       " 'pExXxdMb': 'Stella2019',\n",
       " '1EMs3GS0B': 'Stringer2021',\n",
       " 'ga3ZTFC7': 'Zhang2020',\n",
       " 'UlbjMU0W': 'Kenyon2004',\n",
       " 'vePjgmRh': 'Tavanaei2018',\n",
       " 'Bxpr0Oeq': 'Puchalla2005',\n",
       " 'Jzr1gwsr': 'Agus2010',\n",
       " '1300cS9RL': 'Orban2016',\n",
       " '4D8Jnhkz': 'vanKempen2021',\n",
       " 'QK8RfvTZ': 'Rucci2018',\n",
       " 'j5xS3owo': 'Perrinet2001',\n",
       " '11p3NXmkg': 'Perrinet2002',\n",
       " 'G3GlupPg': 'Thorpe1996',\n",
       " 'FlKJw2VL': 'deCharms1996',\n",
       " 'AhSRXBJ2': 'Wehr1996',\n",
       " '1ABzD5t6G': 'Roelfsema1997',\n",
       " 'R2E2wRFg': 'Harris2003',\n",
       " '2AsQOOsE': 'Schneidman2006',\n",
       " 'Piao2Wzf': 'Pillow2008',\n",
       " 'gDinei4a': 'Johansson2004',\n",
       " 'Ejy1sAyh': 'Denker2018',\n",
       " '1H1Omh73g': 'Chase2007',\n",
       " 'o7rANZux': 'Ganguli2008',\n",
       " 'UGHHptIH': 'Miller2014',\n",
       " 'WFwUKZb5': 'Duffy2019',\n",
       " '1E8gkynCm': 'Safaie2020',\n",
       " 'HjDb1gnq': 'Bienenstock1995',\n",
       " '7K80jcx9': 'Grimaldi2021',\n",
       " 'LjkTSK3h': 'Moser2014',\n",
       " 'DL2NpHxr': 'Azouz2008',\n",
       " '12dWDpY61': 'Thorpe2001',\n",
       " '18ZU9zP9l': 'Bruno2006',\n",
       " 'IjepoonT': 'Gollisch2008',\n",
       " '19fAM6hcv': 'Branco2010',\n",
       " '1EHZgcKyL': 'Meister1995',\n",
       " 'XsHCA4IZ': 'Mainen1995',\n",
       " 'KZgcpjXN': 'Singer1995',\n",
       " 'EF6Larp8': 'Caporale2008',\n",
       " 'qVu1OkoS': 'Schrader2008',\n",
       " 'EqCCVwl2': 'Keysers2001',\n",
       " 'iNkKTYaI': 'Grun2002',\n",
       " 'xBZqHOuN': 'Aviel2003',\n",
       " 's63GcujC': 'Zhao2011',\n",
       " '3GlNNxH5': 'Brette2012',\n",
       " '1FHIKpizQ': 'Kerr2013',\n",
       " 'bc9czTxi': 'Torre2016',\n",
       " 'MgINa6bU': 'Berens2012',\n",
       " 'zc16plUu': 'Pachitariu2018',\n",
       " 'mszJ8wdv': 'Kremkow2016',\n",
       " '15TktA0gR': 'Gilson2010',\n",
       " '1ErNTONy0': 'Torre2013',\n",
       " 'DiIieN8s': 'Pfeil2013',\n",
       " '33SRV9MB': 'Davison2008',\n",
       " 'sJ03d2Zj': 'DiMauroAlfio2022',\n",
       " 'RrgzWOSk': 'Russo2017',\n",
       " 'zZUVkTfZ': 'Perkel1967',\n",
       " '19MS6Bbwp': 'Abeles1991',\n",
       " 'MfmcMsqA': 'Luczak2015',\n",
       " 'B9iZWoq3': 'Kirchner06'}"
      ]
     },
     "execution_count": 83,
     "metadata": {},
     "output_type": "execute_result"
    }
   ],
   "source": [
    "citekeys"
   ]
  },
  {
   "cell_type": "code",
   "execution_count": 58,
   "metadata": {},
   "outputs": [
    {
     "data": {
      "text/plain": [
       "{'file': 'HAL Snapshot:/Users/laurentperrinet/Zotero/storage/MGPKH9LN/hal-01587781.html:text/html;Submitted Version:/Users/laurentperrinet/Zotero/storage/QFKJHSGF/Paugam-Moisy and Bohte - 2012 - Computing with Spiking Neuron Networks.pdf:application/pdf',\n",
       " 'keywords': '⛔ No INSPIRE recid found',\n",
       " 'year': '2012',\n",
       " 'month': 'September',\n",
       " 'author': 'Paugam-Moisy, Hélène and Bohte, Sander M.',\n",
       " 'publisher': 'Springer-Verlag',\n",
       " 'booktitle': 'Handbook of natural computing',\n",
       " 'title': 'Computing with spiking neuron networks',\n",
       " 'ENTRYTYPE': 'incollection',\n",
       " 'ID': 'Paugam-Moisy2012'}"
      ]
     },
     "execution_count": 58,
     "metadata": {},
     "output_type": "execute_result"
    }
   ],
   "source": [
    "entry"
   ]
  },
  {
   "cell_type": "code",
   "execution_count": 19,
   "metadata": {},
   "outputs": [
    {
     "data": {
      "text/plain": [
       "[]"
      ]
     },
     "execution_count": 19,
     "metadata": {},
     "output_type": "execute_result"
    }
   ],
   "source": [
    "keys"
   ]
  },
  {
   "cell_type": "code",
   "execution_count": 122,
   "metadata": {},
   "outputs": [
    {
     "data": {
      "text/plain": [
       "{'pPRQwZb': 'sun_learning_2016',\n",
       " '18ZU9zP9l': 'bruno_cortex_2006',\n",
       " '1EHZgcKyL': 'meister_concerted_1995',\n",
       " 'XsHCA4IZ': 'mainen_reliability_1995',\n",
       " 'KZgcpjXN': 'singer_visual_1995',\n",
       " 'xBZqHOuN': 'aviel_embedding_2003',\n",
       " 'EF6Larp8': 'caporale_spike_2008',\n",
       " '3GlNNxH5': 'brette_computing_2012',\n",
       " 'iNkKTYaI': 'grun_unitary_2002-1',\n",
       " 'EqCCVwl2': 'keysers_speed_2001',\n",
       " 'qVu1OkoS': 'schrader_detecting_2008',\n",
       " 's63GcujC': 'zhao_understanding_2011',\n",
       " '1FHIKpizQ': 'kerr_delay_2013',\n",
       " '15TktA0gR': 'gilson_stdp_2010',\n",
       " 'mszJ8wdv': 'kremkow_push-pull_2016',\n",
       " 'sJ03d2Zj': 'di_mauro_alfio_sne_2022',\n",
       " '33SRV9MB': 'davison_pynn_2008',\n",
       " 'DiIieN8s': 'pfeil_six_2013',\n",
       " '1ErNTONy0': 'torre_statistical_2013',\n",
       " 'zZUVkTfZ': 'perkel_neuronal_1967',\n",
       " 'Z7LAUup3': 'levakova_review_2015',\n",
       " '14wpaupd5': 'pipa_neuroxidence_2008',\n",
       " 'pExXxdMb': 'stella_3d-spade_2019',\n",
       " 'p7xk5w4f': 'kremkow_functional_2010',\n",
       " 'V9qkJFZU': 'quaglio_methods_2018',\n",
       " 'FZ9X31Qa': 'grammont_spike_2003',\n",
       " 'vePjgmRh': 'tavanaei_representation_2018',\n",
       " 'ga3ZTFC7': 'zhang_supervised_2020',\n",
       " 'QK8RfvTZ': 'rucci_temporal_2018',\n",
       " '4D8Jnhkz': 'van_kempen_top-down_2021',\n",
       " 'UlbjMU0W': 'kenyon_theory_2004',\n",
       " 'Bxpr0Oeq': 'puchalla_redundancy_2005',\n",
       " 'R2E2wRFg': 'harris_organization_2003',\n",
       " '1ABzD5t6G': 'roelfsema_visuomotor_1997',\n",
       " 'AhSRXBJ2': 'wehr_odour_1996',\n",
       " 'FlKJw2VL': 'decharms_primary_1996',\n",
       " '2AsQOOsE': 'schneidman_weak_2006',\n",
       " 'Ejy1sAyh': 'denker_lfp_2018',\n",
       " 'o7rANZux': 'ganguli_memory_2008',\n",
       " '1H1Omh73g': 'chase_first-spike_2007',\n",
       " 'gDinei4a': 'johansson_first_2004',\n",
       " 'Piao2Wzf': 'pillow_spatio-temporal_2008',\n",
       " 'WFwUKZb5': 'duffy_variation_2019',\n",
       " 'UGHHptIH': 'miller_visual_2014',\n",
       " '1E8gkynCm': 'safaie_turning_2020',\n",
       " 'DL2NpHxr': 'azouz_stimulus-selective_2008',\n",
       " '12dWDpY61': 'thorpe_seeking_2001',\n",
       " 'wVZpQvSk': 'riehle_spike_1997',\n",
       " 'QCyjy8wE': 'gutig_spike_2014',\n",
       " '2GovoaYw': 'luczak_sequential_2007',\n",
       " 'WZsEyOlK': 'bohte_evidence_2004',\n",
       " '1ECJhg2GM': 'carr_circuit_1990',\n",
       " 'BNK6T5Uk': 'davis_spontaneous_2021',\n",
       " 'f7gkBktf': 'perrinet_active_2014',\n",
       " 'qI2HUEyy': 'haimerl_internal_2019',\n",
       " '1BSbXPPDF': 'khoei_flash-lag_2017',\n",
       " 'IjepoonT': 'gollisch_rapid_2008',\n",
       " 'yLVM9IXi': 'grammont_precise_1999',\n",
       " 'MgINa6bU': 'berens_fast_2012'}"
      ]
     },
     "execution_count": 122,
     "metadata": {},
     "output_type": "execute_result"
    }
   ],
   "source": [
    "citekeys"
   ]
  },
  {
   "cell_type": "code",
   "execution_count": 123,
   "metadata": {},
   "outputs": [
    {
     "data": {
      "text/plain": [
       "['% !TeX TS-program = pdfLaTeX\\n',\n",
       " '% !TeX encoding = UTF-8 Unicode\\n',\n",
       " '% !TeX spellcheck = en-US\\n',\n",
       " '% !BIB TS-program = bibtex\\n']"
      ]
     },
     "execution_count": 123,
     "metadata": {},
     "output_type": "execute_result"
    }
   ],
   "source": [
    "ms = []\n",
    "with open('manuscript.tex', \"r\") as f:\n",
    "    #print(f.readlines())\n",
    "    ms = f.readlines()\n",
    "\n",
    "ms[:4]"
   ]
  },
  {
   "cell_type": "code",
   "execution_count": 124,
   "metadata": {},
   "outputs": [],
   "source": [
    "ms_converted = []\n",
    "for line in ms:\n",
    "    for code in citekeys.keys():\n",
    "        line = line.replace('ref-' + code, citekeys[code])\n",
    "    ms_converted.append(line)\n",
    "\n",
    "    "
   ]
  },
  {
   "cell_type": "code",
   "execution_count": 125,
   "metadata": {},
   "outputs": [],
   "source": [
    "with open('manuscript_converted.tex', \"w\") as f:\n",
    "    f.writelines(ms_converted)"
   ]
  },
  {
   "cell_type": "code",
   "execution_count": null,
   "metadata": {},
   "outputs": [],
   "source": []
  }
 ],
 "metadata": {
  "kernelspec": {
   "display_name": "Python 3.9.13 ('base')",
   "language": "python",
   "name": "python3"
  },
  "language_info": {
   "codemirror_mode": {
    "name": "ipython",
    "version": 3
   },
   "file_extension": ".py",
   "mimetype": "text/x-python",
   "name": "python",
   "nbconvert_exporter": "python",
   "pygments_lexer": "ipython3",
   "version": "3.9.13"
  },
  "orig_nbformat": 4,
  "vscode": {
   "interpreter": {
    "hash": "bed64bb13c40b9494caa67717655e6b36064b438c133615c39c391319a4df43b"
   }
  }
 },
 "nbformat": 4,
 "nbformat_minor": 2
}
